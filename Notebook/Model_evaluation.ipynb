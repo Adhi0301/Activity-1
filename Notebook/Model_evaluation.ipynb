{
 "cells": [
  {
   "cell_type": "code",
   "execution_count": 3,
   "metadata": {},
   "outputs": [],
   "source": [
    "import numpy as np\n",
    "import pandas as pd\n",
    "import matplotlib.pyplot as plt\n",
    "import seaborn as sb\n",
    "from sklearn.model_selection import train_test_split\n",
    "from sklearn.preprocessing import LabelEncoder, StandardScaler\n",
    "from sklearn import metrics\n",
    "from sklearn.svm import SVC\n",
    "from imblearn.over_sampling import RandomOverSampler\n",
    "\n",
    "import warnings\n",
    "warnings.filterwarnings('ignore')"
   ]
  },
  {
   "cell_type": "code",
   "execution_count": 4,
   "metadata": {},
   "outputs": [
    {
     "name": "stdout",
     "output_type": "stream",
     "text": [
      "Data loaded successfully!\n",
      "    Loan_ID    Gender Married  ApplicantIncome  LoanAmount Loan_Status\n",
      "0  LP001002      Male      No             5849         NaN           Y\n",
      "1  LP001003      Male     Yes             4583       128.0           N\n",
      "2  LP001005      Male     Yes             3000        66.0           Y\n",
      "3  LP001006      Male     Yes             2583       120.0           Y\n",
      "4  LP001008      Male      No             6000       141.0           Y\n"
     ]
    }
   ],
   "source": [
    "file_path = 'data/loan_data.csv'  \n",
    "\n",
    "\n",
    "try:\n",
    "    df = pd.read_csv(file_path, sep='\\t', engine='python')\n",
    "    print(\"Data loaded successfully!\")\n",
    "    \n",
    "    \n",
    "    pd.set_option('display.float_format', '{:.1f}'.format)  \n",
    "    pd.set_option('display.max_columns', None)  \n",
    "    pd.set_option('display.expand_frame_repr', False)  \n",
    "    \n",
    "    print(df.head()) \n",
    "except FileNotFoundError:\n",
    "    print(f\"Error: The file at {file_path} was not found.\")\n",
    "except pd.errors.EmptyDataError:\n",
    "    print(\"Error: No data found in the CSV file.\")\n",
    "except pd.errors.ParserError:\n",
    "    print(\"Error: There was a problem parsing the CSV file.\")\n",
    "except Exception as e:\n",
    "    print(f\"An error occurred: {e}\")\n"
   ]
  },
  {
   "cell_type": "code",
   "execution_count": 5,
   "metadata": {},
   "outputs": [
    {
     "name": "stdout",
     "output_type": "stream",
     "text": [
      "<class 'pandas.core.frame.DataFrame'>\n",
      "RangeIndex: 598 entries, 0 to 597\n",
      "Data columns (total 6 columns):\n",
      " #   Column           Non-Null Count  Dtype  \n",
      "---  ------           --------------  -----  \n",
      " 0   Loan_ID          598 non-null    object \n",
      " 1      Gender        598 non-null    object \n",
      " 2   Married          598 non-null    object \n",
      " 3   ApplicantIncome  598 non-null    int64  \n",
      " 4   LoanAmount       577 non-null    float64\n",
      " 5   Loan_Status      598 non-null    object \n",
      "dtypes: float64(1), int64(1), object(4)\n",
      "memory usage: 28.2+ KB\n"
     ]
    }
   ],
   "source": [
    "df.info()"
   ]
  },
  {
   "cell_type": "code",
   "execution_count": 7,
   "metadata": {},
   "outputs": [
    {
     "data": {
      "text/plain": [
       "Index(['Loan_ID', '   Gender', 'Married', 'ApplicantIncome', 'LoanAmount',\n",
       "       'Loan_Status'],\n",
       "      dtype='object')"
      ]
     },
     "execution_count": 7,
     "metadata": {},
     "output_type": "execute_result"
    }
   ],
   "source": [
    "df.columns"
   ]
  },
  {
   "cell_type": "code",
   "execution_count": 8,
   "metadata": {},
   "outputs": [],
   "source": [
    "\n",
    "\n",
    "\n",
    "def preprocess_data(df):\n",
    "    \"\"\"\n",
    "    Preprocesses the input DataFrame.\n",
    "\n",
    "    Args:\n",
    "        df: pandas DataFrame\n",
    "\n",
    "    Returns:\n",
    "        pandas DataFrame: Preprocessed DataFrame\n",
    "    \"\"\"\n",
    "    # 1. Handle Missing Values\n",
    "    # Impute numerical features with the mean\n",
    "    numerical_features = df.select_dtypes(include=['number']).columns\n",
    "    imputer = SimpleImputer(strategy='mean')\n",
    "    df[numerical_features] = imputer.fit_transform(df[numerical_features])\n",
    "\n",
    "    # Impute categorical features with the most frequent value\n",
    "    categorical_features = df.select_dtypes(include=['object']).columns\n",
    "    imputer = SimpleImputer(strategy='most_frequent')\n",
    "    df[categorical_features] = imputer.fit_transform(df[categorical_features])\n",
    "\n",
    "\n",
    "    # 2. Feature Engineering\n",
    "    # Check if 'CoapplicantIncome' column exists before proceeding\n",
    "    if 'CoapplicantIncome' in df.columns:\n",
    "        df['TotalIncome'] = df['ApplicantIncome'] + df['CoapplicantIncome']\n",
    "        df['LoanAmount_per_TotalIncome'] = df['LoanAmount'] / df['TotalIncome']\n",
    "    else:\n",
    "        print(\"Column 'CoapplicantIncome' not found in the DataFrame. Skipping TotalIncome & LoanAmount_per_TotalIncome\")\n",
    "        # Handle the missing column, e.g., impute values or skip the feature engineering step.\n",
    "\n",
    "    # Binning continuous variables\n",
    "    df['ApplicantIncome_bin'] = pd.cut(df['ApplicantIncome'], bins=[0, 2500, 5000, 7500, 10000, float('inf')],\n",
    "                                      labels=['Very Low', 'Low', 'Medium', 'High', 'Very High'])\n",
    "\n",
    "    # 3. Encoding Categorical Variables\n",
    "    # Before encoding, check if the columns exist\n",
    "    categorical_cols = ['Gender', 'Married', 'Education', 'Self_Employed', 'Property_Area', 'Loan_Status']\n",
    "    existing_categorical_cols = [col for col in categorical_cols if col in df.columns]\n",
    "\n",
    "    # Label Encoding for categorical features\n",
    "    for col in existing_categorical_cols:\n",
    "        le = LabelEncoder()\n",
    "        df[col] = le.fit_transform(df[col])\n",
    "\n",
    "\n",
    "    # 4. Interaction Terms\n",
    "    # Ensure 'Credit_History' and 'LoanAmount' columns exist\n",
    "    if 'Credit_History' in df.columns and 'LoanAmount' in df.columns:\n",
    "        df['LoanAmount_x_CreditHistory'] = df['LoanAmount'] * df['Credit_History']\n",
    "    else:\n",
    "        print(\"Column 'Credit_History' or 'LoanAmount' not found in the DataFrame for interaction. Skipping interaction term\")\n",
    "\n",
    "    # 5. Feature Scaling (Optional but often recommended)\n",
    "    # Use StandardScaler for numerical features (except the target variable)\n",
    "    numerical_features_to_scale = [col for col in numerical_features if col != 'Loan_Status']  # Exclude target\n",
    "    if numerical_features_to_scale:  # Check if there are numerical features to scale\n",
    "        scaler = StandardScaler()\n",
    "        df[numerical_features_to_scale] = scaler.fit_transform(df[numerical_features_to_scale])\n",
    "\n",
    "    return df"
   ]
  },
  {
   "cell_type": "code",
   "execution_count": 9,
   "metadata": {},
   "outputs": [
    {
     "data": {
      "text/plain": [
       "((478, 5), (668, 5))"
      ]
     },
     "execution_count": 9,
     "metadata": {},
     "output_type": "execute_result"
    }
   ],
   "source": [
    "features = df.drop('Loan_Status', axis=1)\n",
    "target = df['Loan_Status'].values\n",
    "\n",
    "X_train, X_val,\tY_train, Y_val = train_test_split(features, target,\n",
    "\t\t\t\t\t\t\t\t\ttest_size=0.2,\n",
    "\t\t\t\t\t\t\t\t\trandom_state=10)\n",
    "\n",
    "# As the data was highly imbalanced we will balance\n",
    "# it by adding repetitive rows of minority class.\n",
    "ros = RandomOverSampler(sampling_strategy='minority',\n",
    "\t\t\t\t\t\trandom_state=0)\n",
    "X, Y = ros.fit_resample(X_train, Y_train)\n",
    "\n",
    "X_train.shape, X.shape"
   ]
  },
  {
   "cell_type": "code",
   "execution_count": 11,
   "metadata": {},
   "outputs": [
    {
     "name": "stdout",
     "output_type": "stream",
     "text": [
      "Scaled Training set shape: (478, 601), Scaled Validation set shape: (120, 601)\n"
     ]
    }
   ],
   "source": [
    "# Split features and target\n",
    "features = df.drop('Loan_Status', axis=1)  # Drop the target column\n",
    "target = df['Loan_Status'].values  # Get the target values\n",
    "\n",
    "# Handle categorical variables (if necessary)\n",
    "# For example, using one-hot encoding for categorical columns\n",
    "features = pd.get_dummies(features, drop_first=True)\n",
    "\n",
    "# Train-validation split\n",
    "X_train, X_val, Y_train, Y_val = train_test_split(features, target,\n",
    "                                                  test_size=0.2,\n",
    "                                                  random_state=10)\n",
    "\n",
    "# Normalizing the features for stable and fast training\n",
    "scaler = StandardScaler()\n",
    "\n",
    "# Only scale numeric features\n",
    "X_train_scaled = scaler.fit_transform(X_train)  # Scale the training data\n",
    "X_val_scaled = scaler.transform(X_val)          # Scale the validation data\n",
    "\n",
    "# Check the shapes of the resulting sets (optional)\n",
    "print(f\"Scaled Training set shape: {X_train_scaled.shape}, Scaled Validation set shape: {X_val_scaled.shape}\")"
   ]
  },
  {
   "cell_type": "code",
   "execution_count": 22,
   "metadata": {},
   "outputs": [
    {
     "name": "stdout",
     "output_type": "stream",
     "text": [
      "Training Accuracy: 1.0\n",
      "Validation Accuracy: 0.5\n"
     ]
    }
   ],
   "source": [
    "\n",
    "from sklearn.model_selection import train_test_split\n",
    "from sklearn.preprocessing import StandardScaler\n",
    "from sklearn.svm import SVC\n",
    "\n",
    "\n",
    "# Load the CSV data into a DataFrame\n",
    "file_path = 'data/loan_data.csv'  # Adjust the path as necessary\n",
    "df = pd.read_csv(file_path, sep='\\t', engine='python')\n",
    "\n",
    "# Clean up column names\n",
    "df.columns = df.columns.str.strip()\n",
    "\n",
    "# Convert target variable from categorical to numerical\n",
    "df['Loan_Status'] = df['Loan_Status'].map({'Y': 1, 'N': 0})  # Convert 'Y' to 1 and 'N' to 0\n",
    "\n",
    "# Split features and target\n",
    "features = df.drop('Loan_Status', axis=1)  # Drop the target column\n",
    "target = df['Loan_Status'].values  # Get the target values\n",
    "\n",
    "# One-hot encoding for categorical variables\n",
    "features = pd.get_dummies(features, drop_first=True)\n",
    "\n",
    "# Option 1: Drop rows with missing values from both features and target\n",
    "features = features.dropna()\n",
    "target = target[features.index]  # Keep only the target values corresponding to the cleaned features\n",
    "\n",
    "# Train-validation split\n",
    "X_train, X_val, Y_train, Y_val = train_test_split(features, target,\n",
    "                                                  test_size=0.2,\n",
    "                                                  random_state=10)\n",
    "\n",
    "# Normalizing the features for stable and fast training\n",
    "scaler = StandardScaler()\n",
    "X_train_scaled = scaler.fit_transform(X_train)\n",
    "X_val_scaled = scaler.transform(X_val)\n",
    "\n",
    "# Fit the SVC model\n",
    "model = SVC(kernel='rbf')\n",
    "model.fit(X_train_scaled, Y_train)  # Use the scaled training data\n",
    "\n",
    "# Evaluate the model\n",
    "print('Training Accuracy:', metrics.roc_auc_score(Y_train, model.predict(X_train_scaled)))\n",
    "print('Validation Accuracy:', metrics.roc_auc_score(Y_val, model.predict(X_val_scaled)))\n"
   ]
  },
  {
   "cell_type": "code",
   "execution_count": 25,
   "metadata": {},
   "outputs": [
    {
     "data": {
      "image/png": "[encoded data removed]",
      "text/plain": [
       "<Figure size 600x600 with 1 Axes>"
      ]
     },
     "metadata": {},
     "output_type": "display_data"
    }
   ],
   "source": [
    "from sklearn.metrics import confusion_matrix\n",
    "\n",
    "# Assuming you have already made predictions\n",
    "Y_pred = model.predict(X_val_scaled)\n",
    "\n",
    "# Compute the confusion matrix\n",
    "cm = confusion_matrix(Y_val, Y_pred)\n",
    "\n",
    "plt.figure(figsize=(6, 6))\n",
    "sb.heatmap(cm, annot=True, fmt='d', cmap='Blues', cbar=False)\n",
    "plt.title('Confusion Matrix')\n",
    "plt.xlabel('Predicted Label')\n",
    "plt.ylabel('True Label')\n",
    "plt.show()\n"
   ]
  },
  {
   "cell_type": "code",
   "execution_count": 26,
   "metadata": {},
   "outputs": [
    {
     "name": "stdout",
     "output_type": "stream",
     "text": [
      "              precision    recall  f1-score   support\n",
      "\n",
      "           0       0.00      0.00      0.00        42\n",
      "           1       0.64      1.00      0.78        74\n",
      "\n",
      "    accuracy                           0.64       116\n",
      "   macro avg       0.32      0.50      0.39       116\n",
      "weighted avg       0.41      0.64      0.50       116\n",
      "\n"
     ]
    }
   ],
   "source": [
    "from sklearn.metrics import classification_report\n",
    "print(classification_report(Y_val, model.predict(X_val)))"
   ]
  }
 ],
 "metadata": {
  "kernelspec": {
   "display_name": "venv",
   "language": "python",
   "name": "python3"
  },
  "language_info": {
   "codemirror_mode": {
    "name": "ipython",
    "version": 3
   },
   "file_extension": ".py",
   "mimetype": "text/x-python",
   "name": "python",
   "nbconvert_exporter": "python",
   "pygments_lexer": "ipython3",
   "version": "3.11.9"
  }
 },
 "nbformat": 4,
 "nbformat_minor": 2
}
